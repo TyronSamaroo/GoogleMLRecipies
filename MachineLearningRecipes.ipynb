{
 "cells": [
  {
   "cell_type": "markdown",
   "metadata": {
    "colab_type": "text",
    "id": "view-in-github"
   },
   "source": [
    "<a href=\"https://colab.research.google.com/github/TyronSamaroo/GoogleMLRecipies/blob/main/MachineLearningRecipes.ipynb\" target=\"_parent\"><img src=\"https://colab.research.google.com/assets/colab-badge.svg\" alt=\"Open In Colab\"/></a>"
   ]
  },
  {
   "cell_type": "markdown",
   "metadata": {
    "id": "iZ0ERA-j40t2"
   },
   "source": [
    "# Machine Learning Recipes  #1"
   ]
  },
  {
   "cell_type": "code",
   "execution_count": 12,
   "metadata": {
    "id": "pIaqhH3143Pg"
   },
   "outputs": [],
   "source": [
    "import sklearn"
   ]
  },
  {
   "cell_type": "markdown",
   "metadata": {
    "id": "uVbRq1dT47Y9"
   },
   "source": [
    "## Training Data"
   ]
  },
  {
   "cell_type": "code",
   "execution_count": 13,
   "metadata": {
    "id": "athCToQf44u6"
   },
   "outputs": [],
   "source": [
    " features = [[140, \"smooth\"], [130, \"smooth\"], [150, \"bumpy\"], [170, \"bumpy\"]]\n",
    " labels = [\"apple\", \"apple\", \"orange\", \"orange\"]"
   ]
  },
  {
   "cell_type": "markdown",
   "metadata": {
    "id": "rVU03M5Q5Yhe"
   },
   "source": [
    "To make like easier change feature to 1 meaning smooth and 0 meaning bumpy. The first feature represent the weight. Also for lables 0 meanig apple and 1 meaning oranage"
   ]
  },
  {
   "cell_type": "code",
   "execution_count": 14,
   "metadata": {
    "id": "ZaMkKqAb5R-i"
   },
   "outputs": [],
   "source": [
    " features = [[140, 1], [130, 1], [150, 0], [170, 0]]\n",
    " labels = [0, 0, 1, 1]"
   ]
  },
  {
   "cell_type": "markdown",
   "metadata": {
    "id": "K77OQ5NW56DA"
   },
   "source": [
    "# Classifier: Decision Tree\n",
    "\n",
    "Think of this classifier as a box of rules. Input and Output type are the same. It is now a empty box of rules. To train it we need a learning algorithm."
   ]
  },
  {
   "cell_type": "code",
   "execution_count": 15,
   "metadata": {
    "id": "GfNFeo2t5vB3"
   },
   "outputs": [],
   "source": [
    "from sklearn import tree"
   ]
  },
  {
   "cell_type": "code",
   "execution_count": 16,
   "metadata": {
    "id": "bFOh2ELe5-eH"
   },
   "outputs": [],
   "source": [
    "clf = tree.DecisionTreeClassifier()"
   ]
  },
  {
   "cell_type": "markdown",
   "metadata": {
    "id": "QA220guy6bSh"
   },
   "source": [
    "# Training Algorithm\n",
    "\n",
    "The training algorithm is included in sklearn classifier object and it is called fit. Think of fit as \"find patterns in data\""
   ]
  },
  {
   "cell_type": "code",
   "execution_count": 17,
   "metadata": {
    "id": "FWqw_Iot6xwm"
   },
   "outputs": [],
   "source": [
    "clf = clf.fit(features, labels)"
   ]
  },
  {
   "cell_type": "markdown",
   "metadata": {
    "id": "CzbwRvSv7Q0A"
   },
   "source": [
    "# Test"
   ]
  },
  {
   "cell_type": "code",
   "execution_count": 18,
   "metadata": {
    "colab": {
     "base_uri": "https://localhost:8080/"
    },
    "id": "jl0Y6Wah7A3v",
    "outputId": "ec4b6789-ee80-4063-b1d7-80d9e37961b5"
   },
   "outputs": [
    {
     "data": {
      "text/plain": [
       "array([0])"
      ]
     },
     "execution_count": 18,
     "metadata": {},
     "output_type": "execute_result"
    }
   ],
   "source": [
    "#Default Predict method in classifier object\n",
    "clf.predict([[150, 1]])"
   ]
  },
  {
   "cell_type": "code",
   "execution_count": 19,
   "metadata": {
    "id": "F0VgTs9_7UMq"
   },
   "outputs": [],
   "source": [
    "def prediction(data):\n",
    "    prediction = clf.predict(data) \n",
    "    for value in prediction:\n",
    "        if value == 1:\n",
    "            print(\"Prediction: Orange\")\n",
    "        else:\n",
    "            print(\"Prediction: Apple\")"
   ]
  },
  {
   "cell_type": "code",
   "execution_count": 20,
   "metadata": {
    "colab": {
     "base_uri": "https://localhost:8080/"
    },
    "id": "LugVR-VI78Ic",
    "outputId": "a54800c5-0ad5-4d85-ce60-4184a68b3457"
   },
   "outputs": [
    {
     "name": "stdout",
     "output_type": "stream",
     "text": [
      "Prediction: Apple\n"
     ]
    }
   ],
   "source": [
    "prediction([[150,1]])"
   ]
  },
  {
   "cell_type": "code",
   "execution_count": 21,
   "metadata": {
    "colab": {
     "base_uri": "https://localhost:8080/"
    },
    "id": "kN-aUcAW7_o9",
    "outputId": "b786d68a-8863-490e-92f5-195b52c62a3b"
   },
   "outputs": [
    {
     "name": "stdout",
     "output_type": "stream",
     "text": [
      "Prediction: Apple\n",
      "Prediction: Apple\n",
      "Prediction: Orange\n",
      "Prediction: Orange\n"
     ]
    }
   ],
   "source": [
    "prediction(features)"
   ]
  },
  {
   "cell_type": "markdown",
   "metadata": {
    "id": "477KOFyf-SsE"
   },
   "source": [
    "# Machine Learning Recipes  #2"
   ]
  },
  {
   "cell_type": "markdown",
   "metadata": {
    "id": "236niAS3-Xq2"
   },
   "source": [
    "Goal: Use the Iris dataset to train a classifier and predict label for a new flower. "
   ]
  },
  {
   "cell_type": "markdown",
   "metadata": {
    "id": "GrGgeGLn-zfx"
   },
   "source": [
    "# Import Data\n",
    "\n",
    "Conveniently available in sklearn"
   ]
  },
  {
   "cell_type": "code",
   "execution_count": 22,
   "metadata": {
    "id": "wiIl9HDH-zqg"
   },
   "outputs": [],
   "source": [
    "from sklearn.datasets import load_iris\n",
    "iris = load_iris()"
   ]
  },
  {
   "cell_type": "code",
   "execution_count": 23,
   "metadata": {
    "colab": {
     "base_uri": "https://localhost:8080/"
    },
    "id": "-3K7DlNV-01p",
    "outputId": "9ab46eeb-485a-44c5-e6d7-1f7b96fb480d"
   },
   "outputs": [
    {
     "data": {
      "text/plain": [
       "['sepal length (cm)',\n",
       " 'sepal width (cm)',\n",
       " 'petal length (cm)',\n",
       " 'petal width (cm)']"
      ]
     },
     "execution_count": 23,
     "metadata": {},
     "output_type": "execute_result"
    }
   ],
   "source": [
    "iris.feature_names"
   ]
  },
  {
   "cell_type": "code",
   "execution_count": 24,
   "metadata": {
    "colab": {
     "base_uri": "https://localhost:8080/"
    },
    "id": "hiCJ4UaL-1LS",
    "outputId": "04d39be7-73eb-4afa-9edd-1c879fe0b670"
   },
   "outputs": [
    {
     "data": {
      "text/plain": [
       "array(['setosa', 'versicolor', 'virginica'], dtype='<U10')"
      ]
     },
     "execution_count": 24,
     "metadata": {},
     "output_type": "execute_result"
    }
   ],
   "source": [
    "iris.target_names"
   ]
  },
  {
   "cell_type": "code",
   "execution_count": 25,
   "metadata": {
    "colab": {
     "base_uri": "https://localhost:8080/"
    },
    "id": "4_1Nskid_OUj",
    "outputId": "b793c83c-809a-4632-ad97-a01f771cba95"
   },
   "outputs": [
    {
     "data": {
      "text/plain": [
       "array([5.1, 3.5, 1.4, 0.2])"
      ]
     },
     "execution_count": 25,
     "metadata": {},
     "output_type": "execute_result"
    }
   ],
   "source": [
    "iris.data[0]"
   ]
  },
  {
   "cell_type": "code",
   "execution_count": 26,
   "metadata": {
    "colab": {
     "base_uri": "https://localhost:8080/"
    },
    "id": "WU4Os5dt_XVR",
    "outputId": "d22ebd92-3289-4112-9e76-fcdbb8d8d549"
   },
   "outputs": [
    {
     "data": {
      "text/plain": [
       "0"
      ]
     },
     "execution_count": 26,
     "metadata": {},
     "output_type": "execute_result"
    }
   ],
   "source": [
    "iris.target[0]"
   ]
  },
  {
   "cell_type": "code",
   "execution_count": 27,
   "metadata": {
    "id": "6UfiX1Ds_c28"
   },
   "outputs": [],
   "source": [
    "def view_data(num = 1):\n",
    "    for i in range(0,num):\n",
    "        print(\"Input: \", iris.data[i], \"Output: \", iris.target[i])\n"
   ]
  },
  {
   "cell_type": "code",
   "execution_count": 28,
   "metadata": {
    "colab": {
     "base_uri": "https://localhost:8080/"
    },
    "id": "l-Oy4NHj_rI4",
    "outputId": "1f5af6e7-c846-4d7e-90d8-da9d6c95f320"
   },
   "outputs": [
    {
     "name": "stdout",
     "output_type": "stream",
     "text": [
      "Input:  [5.1 3.5 1.4 0.2] Output:  0\n",
      "Input:  [4.9 3.  1.4 0.2] Output:  0\n"
     ]
    }
   ],
   "source": [
    "view_data(2)"
   ]
  },
  {
   "cell_type": "code",
   "execution_count": null,
   "metadata": {
    "id": "4kzlic4pARZU"
   },
   "outputs": [],
   "source": []
  },
  {
   "cell_type": "markdown",
   "metadata": {
    "id": "yxlMmXeIAy3-"
   },
   "source": [
    "# Testing and Training Data"
   ]
  },
  {
   "cell_type": "markdown",
   "metadata": {
    "id": "8D5YeBnHBBuS"
   },
   "source": [
    "For this example remove one example of each flower. The data set is ordered so the first setosa is at 0, first versicolor at 50, and first virginca at 100. \n",
    "\n",
    "Below we are removing these 3 data points from target and data. \n",
    "\n",
    "\n",
    "\n",
    "1.   Training will have all but those 3 data points\n",
    "2.   Testing will have the 3 removed data points\n"
   ]
  },
  {
   "cell_type": "code",
   "execution_count": 29,
   "metadata": {
    "id": "SQuL4W23A140"
   },
   "outputs": [],
   "source": [
    "import numpy as np\n",
    "test_index = [0, 50, 100]\n",
    "\n",
    "#training data\n",
    "train_target = np.delete(iris.target, test_index)\n",
    "train_data = np.delete(iris.data, test_index, axis= 0)\n",
    "\n",
    "#testing data\n",
    "test_target = iris.target[test_index]\n",
    "test_data = iris.data[test_index]\n"
   ]
  },
  {
   "cell_type": "markdown",
   "metadata": {
    "id": "q4G9sPbGCW7p"
   },
   "source": [
    "## Choose and Train Classifer "
   ]
  },
  {
   "cell_type": "code",
   "execution_count": 30,
   "metadata": {
    "colab": {
     "base_uri": "https://localhost:8080/"
    },
    "id": "Pq3vD_Y5BQkC",
    "outputId": "e5476f37-6e07-4984-9a67-7db1b7c67810"
   },
   "outputs": [
    {
     "data": {
      "text/plain": [
       "DecisionTreeClassifier(ccp_alpha=0.0, class_weight=None, criterion='gini',\n",
       "                       max_depth=None, max_features=None, max_leaf_nodes=None,\n",
       "                       min_impurity_decrease=0.0, min_impurity_split=None,\n",
       "                       min_samples_leaf=1, min_samples_split=2,\n",
       "                       min_weight_fraction_leaf=0.0, presort='deprecated',\n",
       "                       random_state=None, splitter='best')"
      ]
     },
     "execution_count": 30,
     "metadata": {},
     "output_type": "execute_result"
    }
   ],
   "source": [
    "clf = tree.DecisionTreeClassifier()\n",
    "clf.fit(train_data, train_target)    "
   ]
  },
  {
   "cell_type": "markdown",
   "metadata": {
    "id": "eOEN1S0iCs48"
   },
   "source": [
    "# Prediction"
   ]
  },
  {
   "cell_type": "code",
   "execution_count": 31,
   "metadata": {
    "colab": {
     "base_uri": "https://localhost:8080/"
    },
    "id": "AiHI6mSMCVdS",
    "outputId": "8def9e2c-ec56-4eb7-c198-c41f242c90f0"
   },
   "outputs": [
    {
     "data": {
      "text/plain": [
       "array([0, 1, 2])"
      ]
     },
     "execution_count": 31,
     "metadata": {},
     "output_type": "execute_result"
    }
   ],
   "source": [
    "test_target"
   ]
  },
  {
   "cell_type": "code",
   "execution_count": 32,
   "metadata": {
    "colab": {
     "base_uri": "https://localhost:8080/"
    },
    "id": "ttPUHe9AC4xy",
    "outputId": "cdb253fa-ed2c-4205-ec95-1d2b47a06b37"
   },
   "outputs": [
    {
     "data": {
      "text/plain": [
       "array([0, 1, 2])"
      ]
     },
     "execution_count": 32,
     "metadata": {},
     "output_type": "execute_result"
    }
   ],
   "source": [
    "clf.predict(test_data)"
   ]
  },
  {
   "cell_type": "code",
   "execution_count": 33,
   "metadata": {
    "colab": {
     "base_uri": "https://localhost:8080/",
     "height": 557
    },
    "id": "qOwqqAL5C7l2",
    "outputId": "b5a4cd4e-01b5-49b2-b0cb-69313ea4af60"
   },
   "outputs": [
    {
     "data": {
      "text/plain": [
       "[Text(167.4, 199.32, 'X[3] <= 0.8\\ngini = 0.667\\nsamples = 147\\nvalue = [49, 49, 49]'),\n",
       " Text(141.64615384615385, 163.07999999999998, 'gini = 0.0\\nsamples = 49\\nvalue = [49, 0, 0]'),\n",
       " Text(193.15384615384616, 163.07999999999998, 'X[3] <= 1.75\\ngini = 0.5\\nsamples = 98\\nvalue = [0, 49, 49]'),\n",
       " Text(103.01538461538462, 126.83999999999999, 'X[2] <= 4.95\\ngini = 0.171\\nsamples = 53\\nvalue = [0, 48, 5]'),\n",
       " Text(51.50769230769231, 90.6, 'X[3] <= 1.65\\ngini = 0.042\\nsamples = 47\\nvalue = [0, 46, 1]'),\n",
       " Text(25.753846153846155, 54.359999999999985, 'gini = 0.0\\nsamples = 46\\nvalue = [0, 46, 0]'),\n",
       " Text(77.26153846153846, 54.359999999999985, 'gini = 0.0\\nsamples = 1\\nvalue = [0, 0, 1]'),\n",
       " Text(154.52307692307693, 90.6, 'X[3] <= 1.55\\ngini = 0.444\\nsamples = 6\\nvalue = [0, 2, 4]'),\n",
       " Text(128.76923076923077, 54.359999999999985, 'gini = 0.0\\nsamples = 3\\nvalue = [0, 0, 3]'),\n",
       " Text(180.27692307692308, 54.359999999999985, 'X[0] <= 6.95\\ngini = 0.444\\nsamples = 3\\nvalue = [0, 2, 1]'),\n",
       " Text(154.52307692307693, 18.119999999999976, 'gini = 0.0\\nsamples = 2\\nvalue = [0, 2, 0]'),\n",
       " Text(206.03076923076924, 18.119999999999976, 'gini = 0.0\\nsamples = 1\\nvalue = [0, 0, 1]'),\n",
       " Text(283.2923076923077, 126.83999999999999, 'X[2] <= 4.85\\ngini = 0.043\\nsamples = 45\\nvalue = [0, 1, 44]'),\n",
       " Text(257.53846153846155, 90.6, 'X[1] <= 3.1\\ngini = 0.444\\nsamples = 3\\nvalue = [0, 1, 2]'),\n",
       " Text(231.7846153846154, 54.359999999999985, 'gini = 0.0\\nsamples = 2\\nvalue = [0, 0, 2]'),\n",
       " Text(283.2923076923077, 54.359999999999985, 'gini = 0.0\\nsamples = 1\\nvalue = [0, 1, 0]'),\n",
       " Text(309.04615384615386, 90.6, 'gini = 0.0\\nsamples = 42\\nvalue = [0, 0, 42]')]"
      ]
     },
     "execution_count": 33,
     "metadata": {},
     "output_type": "execute_result"
    },
    {
     "data": {
      "image/png": "[encoded data removed]",
      "text/plain": [
       "<Figure size 432x288 with 1 Axes>"
      ]
     },
     "metadata": {
      "needs_background": "light"
     },
     "output_type": "display_data"
    }
   ],
   "source": [
    " tree.plot_tree(clf)\n"
   ]
  },
  {
   "cell_type": "code",
   "execution_count": 36,
   "metadata": {
    "colab": {
     "base_uri": "https://localhost:8080/",
     "height": 256
    },
    "id": "MXjvGLyIDkk-",
    "outputId": "f6a215b3-9dd1-4273-d036-0047e3dd26d5"
   },
   "outputs": [
    {
     "data": {
      "text/plain": [
       "'digraph Tree {\\nnode [shape=box] ;\\n0 [label=\"X[3] <= 0.8\\\\ngini = 0.667\\\\nsamples = 147\\\\nvalue = [49, 49, 49]\"] ;\\n1 [label=\"gini = 0.0\\\\nsamples = 49\\\\nvalue = [49, 0, 0]\"] ;\\n0 -> 1 [labeldistance=2.5, labelangle=45, headlabel=\"True\"] ;\\n2 [label=\"X[3] <= 1.75\\\\ngini = 0.5\\\\nsamples = 98\\\\nvalue = [0, 49, 49]\"] ;\\n0 -> 2 [labeldistance=2.5, labelangle=-45, headlabel=\"False\"] ;\\n3 [label=\"X[2] <= 4.95\\\\ngini = 0.171\\\\nsamples = 53\\\\nvalue = [0, 48, 5]\"] ;\\n2 -> 3 ;\\n4 [label=\"X[3] <= 1.65\\\\ngini = 0.042\\\\nsamples = 47\\\\nvalue = [0, 46, 1]\"] ;\\n3 -> 4 ;\\n5 [label=\"gini = 0.0\\\\nsamples = 46\\\\nvalue = [0, 46, 0]\"] ;\\n4 -> 5 ;\\n6 [label=\"gini = 0.0\\\\nsamples = 1\\\\nvalue = [0, 0, 1]\"] ;\\n4 -> 6 ;\\n7 [label=\"X[3] <= 1.55\\\\ngini = 0.444\\\\nsamples = 6\\\\nvalue = [0, 2, 4]\"] ;\\n3 -> 7 ;\\n8 [label=\"gini = 0.0\\\\nsamples = 3\\\\nvalue = [0, 0, 3]\"] ;\\n7 -> 8 ;\\n9 [label=\"X[0] <= 6.95\\\\ngini = 0.444\\\\nsamples = 3\\\\nvalue = [0, 2, 1]\"] ;\\n7 -> 9 ;\\n10 [label=\"gini = 0.0\\\\nsamples = 2\\\\nvalue = [0, 2, 0]\"] ;\\n9 -> 10 ;\\n11 [label=\"gini = 0.0\\\\nsamples = 1\\\\nvalue = [0, 0, 1]\"] ;\\n9 -> 11 ;\\n12 [label=\"X[2] <= 4.85\\\\ngini = 0.043\\\\nsamples = 45\\\\nvalue = [0, 1, 44]\"] ;\\n2 -> 12 ;\\n13 [label=\"X[1] <= 3.1\\\\ngini = 0.444\\\\nsamples = 3\\\\nvalue = [0, 1, 2]\"] ;\\n12 -> 13 ;\\n14 [label=\"gini = 0.0\\\\nsamples = 2\\\\nvalue = [0, 0, 2]\"] ;\\n13 -> 14 ;\\n15 [label=\"gini = 0.0\\\\nsamples = 1\\\\nvalue = [0, 1, 0]\"] ;\\n13 -> 15 ;\\n16 [label=\"gini = 0.0\\\\nsamples = 42\\\\nvalue = [0, 0, 42]\"] ;\\n12 -> 16 ;\\n}'"
      ]
     },
     "execution_count": 36,
     "metadata": {},
     "output_type": "execute_result"
    }
   ],
   "source": [
    "tree.export_graphviz(clf)"
   ]
  },
  {
   "cell_type": "code",
   "execution_count": 38,
   "metadata": {
    "id": "-PQzM-NaDLPO"
   },
   "outputs": [],
   "source": []
  },
  {
   "cell_type": "code",
   "execution_count": 47,
   "metadata": {},
   "outputs": [],
   "source": [
    "from sklearn.externals.six import StringIO\n",
    "import pydot\n",
    "dot_data = StringIO()\n",
    "tree.export_graphviz(clf,\n",
    "                         out_file=dot_data,\n",
    "                         feature_names=iris.feature_names,\n",
    "                         class_names= iris.target_names,\n",
    "                         filled=True,\n",
    "                         rounded=True,\n",
    "                         impurity=False)\n",
    "graph = pydot.graph_from_dot_data(dot_data.getvalue())"
   ]
  },
  {
   "cell_type": "code",
   "execution_count": 46,
   "metadata": {},
   "outputs": [],
   "source": [
    "graph[0].write_pdf('iris.pdf')"
   ]
  },
  {
   "cell_type": "code",
   "execution_count": null,
   "metadata": {},
   "outputs": [],
   "source": []
  }
 ],
 "metadata": {
  "colab": {
   "authorship_tag": "ABX9TyMe7MAdHskdKbcr2KVHx1mO",
   "include_colab_link": true,
   "name": "MachineLearningRecipes .ipynb",
   "provenance": [],
   "toc_visible": true
  },
  "kernelspec": {
   "display_name": "Python 3",
   "language": "python",
   "name": "python3"
  },
  "language_info": {
   "codemirror_mode": {
    "name": "ipython",
    "version": 3
   },
   "file_extension": ".py",
   "mimetype": "text/x-python",
   "name": "python",
   "nbconvert_exporter": "python",
   "pygments_lexer": "ipython3",
   "version": "3.7.6"
  }
 },
 "nbformat": 4,
 "nbformat_minor": 1
}
